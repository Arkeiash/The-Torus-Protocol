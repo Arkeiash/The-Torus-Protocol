# Loading the Notebook
%load_ext autoreload
%autoreload 2

from torus_core import claim_parcel, ledger, parcel_coordinates