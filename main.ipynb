 # At the top of main.ipynb
%load_ext autoreload
%autoreload 2

import torus_core 